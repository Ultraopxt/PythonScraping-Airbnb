{
 "cells": [
  {
   "cell_type": "markdown",
   "metadata": {},
   "source": [
    "# Airbnb深圳的短租房源信息抓取"
   ]
  },
  {
   "cell_type": "markdown",
   "metadata": {},
   "source": [
    "本章实践项目的目的是获取AirbnbcAirbnb深圳前5页的短租房源。监控和了解竞争对手的房屋名称和价格，这样才能让自己的房子有竞争力。\n",
    "本项目需要获取前5页短租房源的名称、价格、评价数量、房屋类型、床数量和房客数量。网页地址为：https://www.airbnb.cn/s/%E6%B7%B1%E5%9C%B3/homes?parent_city_place_id=ChIJkVLh0Aj0AzQRyYCStw1V7v0&place_id=ChIJkVLh0Aj0AzQRyYCStw1V7v0&query=%E6%B7%B1%E5%9C%B3&refinement_paths%5B%5D=%2Fhomes&checkin=&checkout="
   ]
  },
  {
   "cell_type": "markdown",
   "metadata": {},
   "source": [
    "## 网站分析"
   ]
  },
  {
   "cell_type": "markdown",
   "metadata": {},
   "source": [
    "用seleinium 获取Airbnb第一页的数据"
   ]
  },
  {
   "cell_type": "code",
   "execution_count": 1,
   "metadata": {},
   "outputs": [],
   "source": [
    "from selenium import webdriver\n",
    "import time"
   ]
  },
  {
   "cell_type": "code",
   "execution_count": 2,
   "metadata": {},
   "outputs": [
    {
     "name": "stdout",
     "output_type": "stream",
     "text": [
      "8 ￥133  月租ins风大主卧+空中花园，南山桃园双地铁口，近科技园/深大/世界之窗/海岸城/机场/福田高铁站 独立房间 1室1卫1床\n",
      "0 ￥75 新房特惠 8 折 泊寓布吉店青年之家 整套公寓 1室1卫1床\n",
      "16 ￥138 周租优惠 南山中心区.森系主卧A Sunny Room Full Of Forest 独立房间 1室1卫1床\n",
      "9 ￥70 周租优惠 #八羽·雪鸽#日式套间/南山区/西丽/深职院/万象天地/科技园/深圳湾/深大/深圳北/大学城/万科里 整套公寓 1室1卫0床\n",
      "19 ￥150  Rain 福田香蜜湖农林地铁站时尚空间温馨单人房.福田CBD.香蜜公园 独立房间 1室1卫1床\n",
      "23 ￥229 周租优惠 【B-612·Sunset】绝美日落摄影/科技园/大学城/动物园/深职院/鹏城实验室/整套公寓可长租 整套公寓 1室1.5卫1床\n",
      "4 ￥100  月租私家空中花园单人卧室，南山桃园双地铁，近科技园/深大/世界之窗/海岸城/机场/福田高铁站 独立房间 1室1卫1床\n",
      "54 ￥235 周租优惠 马拉松爱好者之家，地铁南山站E2出口Metro Nanshan 整套公寓 1室1.5卫1床\n",
      "3 ￥208 周租优惠 塘朗地铁站A出口大学城附近商务公寓塘朗购物中心楼上 整套公寓 1室1卫1床\n",
      "32 ￥188 周租优惠 【典】时尚雅致房 南山站E出口100m 步行至深大 临近春茧 海岸城 口岸 地铁直达机场 独立房间 1室2卫1床\n",
      "82 ￥251 周租优惠 【艺术之家】福田中心区石厦地铁站时尚的画家居室 The painter's room 整套公寓 1室1卫1床\n",
      "44 ￥199 周租优惠 仙贝屋 | 红茶拿铁 华强北地铁口 福田CBD会展中心福田口岸 现代LOFT 极米高清家庭影院 整间LOFT 1室1卫2床\n",
      "0 ￥998 周租优惠 『不丢榜样家』双玺财富人生 | 顶配豪宅 |独家富豪日常生活体验 | 海上世界地铁口 | 招商局 整套公寓 1室1卫0床\n",
      "0 ￥180 周租优惠 南山/西丽/茶光/复式带院子-独立卫浴-小舍.撸猫 整间LOFT 1室1卫2床\n",
      "45 ￥150 周租优惠 [Studio Q]Jade/深圳罗湖/大落地窗/东门老街/网红民宿/商务套房/直达香港/近地铁口岸 整套公寓 1室1卫1床\n",
      "10 ￥116  月租ins风带独立空中花园，南山桃园双地铁口，近科技园/深大/世界之窗/海岸城/机场/福田高铁站 独立房间 1室1卫1床\n"
     ]
    }
   ],
   "source": [
    "driver=webdriver.Firefox(executable_path=r'C:\\Users\\DOT-1\\Desktop\\geckodriver.exe')\n",
    "driver.get('https://www.airbnb.cn/s/%E6%B7%B1%E5%9C%B3/homes?refinement_paths%5B%5D=%2Fhomes&current_tab_id=home_tab&selected_tab_id=home_tab&screen_size=medium&hide_dates_and_guests_filters=false&place_id=ChIJkVLh0Aj0AzQRyYCStw1V7v0&map_toggle=false')\n",
    "#找到页面中所有的租房\n",
    "rent_list=driver.find_elements_by_css_selector('div._gig1e7')\n",
    "                         \n",
    "#对每个出租房\n",
    "for eachhouse in rent_list:\n",
    "    #找到评论数量\n",
    "    try:\n",
    "        comment=eachhouse.find_element_by_css_selector('span._69pvqtq')\n",
    "        comment=comment.text\n",
    "    except:\n",
    "            comment=0\n",
    "    #找到价格\n",
    "    price=eachhouse.find_element_by_css_selector('div._59f9ic')\n",
    "    price=price.text.replace('每晚','').replace('价格','').replace('\\n','')\n",
    "    #找到名称\n",
    "    name=eachhouse.find_element_by_css_selector('div._qrfr9x5')\n",
    "    name=name.text\n",
    "    #找到房屋类型，大小\n",
    "    details=eachhouse.find_element_by_css_selector('div._1etkxf1')\n",
    "    details=details.text\n",
    "    house_type=details.split(\" · \")[0]\n",
    "    bed_number=details.split(\" · \")[1]\n",
    "    print(comment,price,name,house_type,bed_number)"
   ]
  },
  {
   "cell_type": "markdown",
   "metadata": {},
   "source": [
    "## 爬取前5页的数据"
   ]
  },
  {
   "cell_type": "code",
   "execution_count": 7,
   "metadata": {},
   "outputs": [
    {
     "name": "stdout",
     "output_type": "stream",
     "text": [
      "8 ￥133  月租ins风大主卧+空中花园，南山桃园双地铁口，近科技园/深大/世界之窗/海岸城/机场/福田高铁站 独立房间 1室1卫1床\n",
      "4 ￥100  月租私家空中花园单人卧室，南山桃园双地铁，近科技园/深大/世界之窗/海岸城/机场/福田高铁站 独立房间 1室1卫1床\n",
      "0 ￥158 周租优惠 福田口岸地铁+B保税区温馨简约时尚，全景飄窗海景房，獨立洗手間，房间直接观深圳湾海面及夕阳，设施齐全 独立房间 1室1卫1床\n",
      "24 ￥198 周租优惠 东门老街，高性价比，独享一居室，地铁口，百米到老街，近金光华，万象城，KKMALL，商务旅游吃货首选 整套公寓 1室1.5卫1床\n",
      "0 ￥428  【摩卡】#tuzi#华強北loft公寓| 整间LOFT 1室1卫1床\n",
      "0 ￥342  Kiah's apt 3 整套公寓 1室1卫1床\n",
      "22 ￥136 周租优惠 中心区朝南独立卧室带大落地窗 独立房间 1室1卫1床\n",
      "0 ￥75 新房特惠 8 折 泊寓布吉店青年之家 整套公寓 1室1卫1床\n",
      "4 ￥500 周租优惠 暂停 整间LOFT 单间0床\n",
      "11 ￥208 周租优惠 荷坳地铁站北欧简约风情怀公寓近港中文、信息学院、深北理三所大学（可做饭）整租房 整套公寓 1室1卫1床\n",
      "82 ￥251 周租优惠 【艺术之家】福田中心区石厦地铁站时尚的画家居室 The painter's room 整套公寓 1室1卫1床\n",
      "16 ￥138 周租优惠 南山中心区.森系主卧A Sunny Room Full Of Forest 独立房间 1室1卫1床\n",
      "0 ￥118 周租优惠 福田口岸地铁+A保税区海景房，温馨简约时尚单间设施齐全，屋中观香港米浦自然保护区 独立房间 1室3卫1床\n",
      "12 ￥68 周租优惠 #八羽·夜莺#日式套间/南山区/西丽/深职院/万象天地/科技园/深圳湾/深大/深圳北/大学城/万科里 整套公寓 1室1卫0床\n",
      "0 ￥298  「无敌夜景」会展中心·市中心CBD·平安中心·coco park·福田口岸·皇岗口岸·华侨城·深圳站 整套公寓 1室1卫1床\n",
      "30 ￥109 周租优惠 【花狸】南山/深大/桃园/1号和11号线地铁站附近/安静别墅小区里的民宅/有猫儿 独立房间 1室1卫1床\n",
      "7 ￥89 周租优惠 地铁11号线马安山站/沙井/宝安/《小猪猪的家B1》/近机场 会展中心 宝体/商务风/智能锁/真实图 整套公寓 1室1卫1床\n",
      "45 ￥150 周租优惠 [Studio Q]Jade/深圳罗湖/大落地窗/东门老街/网红民宿/商务套房/直达香港/近地铁口岸 整套公寓 1室1卫1床\n",
      "10 ￥116  月租ins风带独立空中花园，南山桃园双地铁口，近科技园/深大/世界之窗/海岸城/机场/福田高铁站 独立房间 1室1卫1床\n",
      "44 ￥268 周租优惠 【限时特惠】全景大窗一居静室/老街地铁口/万象城/KKmall/老街超旺美食商圈【选房比厨卫干净度哦 整套公寓 1室1.5卫1床\n",
      "5 ￥95  梅林北氧吧水云间 独立房间 2室1.5卫2床\n",
      "8 ￥328  【安心防护居】无接触自助式入住【周租/月租/长租特惠】大剧院万象城#老街#罗湖口岸#一房一厅 整套公寓 1室1卫1床\n",
      "0 ￥218  Wind香蜜湖北欧简约大床房.农林地铁站.福田CBD.香蜜公园.车公庙 独立房间 1室1卫1床\n",
      "14 ￥63 周租优惠 #八羽·黑鸢#日式套间·独立卫浴·榻榻米床垫//深职院/深大/深圳北/大学城/宝体/西丽地铁站 整套公寓 1室1卫0床\n",
      "0 ￥80  天安云谷旁 精装一房 家私齐全拎包入住 商超齐全 整套公寓 1室1卫1床\n",
      "9 ￥328  无接触自助式入住【周租/月租/长租特惠】宿彩一居室|深圳北站|西丽地铁站|南山西丽大学城|城市公寓 整套公寓 1室1卫1床\n",
      "54 ￥235 周租优惠 马拉松爱好者之家，地铁南山站E2出口Metro Nanshan 整套公寓 1室1.5卫1床\n",
      "0 ￥439  【斑斓·家】投影一居室/地铁站步行5分钟/紧邻连城新天地/皇庭广场 整套公寓 1室1卫1床\n",
      "15 ￥438 周租优惠 【旅途中的家】科技园简欧大二房公寓，地铁旁出行便利，厨房设施齐全，小区安静安全，您旅途中温馨的家！ 整套公寓 2室1卫2床\n",
      "63 ￥158 周租优惠 福田CBD 梅景地铁站出口15米 出行超级方便 高档精装小区41楼落地窗夜景 车公庙会展中心购物公园 独立房间 1室1卫1床\n",
      "10 ￥110 周租优惠 地铁11号线马安山站/沙井/宝安/《小猪猪的家C2》/近机场 会展中心 宝体/商务风/智能锁/真实图 整套公寓 1室1卫1床\n",
      "16 ￥299 周租优惠 （城家精选）华强燕南地铁站店投影公寓 整套公寓 1室1卫1床\n",
      "8 ￥133  月租ins风大主卧+空中花园，南山桃园双地铁口，近科技园/深大/世界之窗/海岸城/机场/福田高铁站 独立房间 1室1卫1床\n",
      "4 ￥100  月租私家空中花园单人卧室，南山桃园双地铁，近科技园/深大/世界之窗/海岸城/机场/福田高铁站 独立房间 1室1卫1床\n",
      "0 ￥158 周租优惠 福田口岸地铁+B保税区温馨简约时尚，全景飄窗海景房，獨立洗手間，房间直接观深圳湾海面及夕阳，设施齐全 独立房间 1室1卫1床\n",
      "24 ￥198 周租优惠 东门老街，高性价比，独享一居室，地铁口，百米到老街，近金光华，万象城，KKMALL，商务旅游吃货首选 整套公寓 1室1.5卫1床\n",
      "0 ￥428  【摩卡】#tuzi#华強北loft公寓| 整间LOFT 1室1卫1床\n",
      "0 ￥342  Kiah's apt 3 整套公寓 1室1卫1床\n",
      "22 ￥136 周租优惠 中心区朝南独立卧室带大落地窗 独立房间 1室1卫1床\n",
      "0 ￥75 新房特惠 8 折 泊寓布吉店青年之家 整套公寓 1室1卫1床\n",
      "4 ￥500 周租优惠 暂停 整间LOFT 单间0床\n",
      "11 ￥208 周租优惠 荷坳地铁站北欧简约风情怀公寓近港中文、信息学院、深北理三所大学（可做饭）整租房 整套公寓 1室1卫1床\n",
      "82 ￥251 周租优惠 【艺术之家】福田中心区石厦地铁站时尚的画家居室 The painter's room 整套公寓 1室1卫1床\n",
      "16 ￥138 周租优惠 南山中心区.森系主卧A Sunny Room Full Of Forest 独立房间 1室1卫1床\n",
      "0 ￥118 周租优惠 福田口岸地铁+A保税区海景房，温馨简约时尚单间设施齐全，屋中观香港米浦自然保护区 独立房间 1室3卫1床\n",
      "12 ￥68 周租优惠 #八羽·夜莺#日式套间/南山区/西丽/深职院/万象天地/科技园/深圳湾/深大/深圳北/大学城/万科里 整套公寓 1室1卫0床\n",
      "0 ￥298  「无敌夜景」会展中心·市中心CBD·平安中心·coco park·福田口岸·皇岗口岸·华侨城·深圳站 整套公寓 1室1卫1床\n",
      "30 ￥109 周租优惠 【花狸】南山/深大/桃园/1号和11号线地铁站附近/安静别墅小区里的民宅/有猫儿 独立房间 1室1卫1床\n",
      "7 ￥89 周租优惠 地铁11号线马安山站/沙井/宝安/《小猪猪的家B1》/近机场 会展中心 宝体/商务风/智能锁/真实图 整套公寓 1室1卫1床\n",
      "45 ￥150 周租优惠 [Studio Q]Jade/深圳罗湖/大落地窗/东门老街/网红民宿/商务套房/直达香港/近地铁口岸 整套公寓 1室1卫1床\n",
      "10 ￥116  月租ins风带独立空中花园，南山桃园双地铁口，近科技园/深大/世界之窗/海岸城/机场/福田高铁站 独立房间 1室1卫1床\n",
      "44 ￥268 周租优惠 【限时特惠】全景大窗一居静室/老街地铁口/万象城/KKmall/老街超旺美食商圈【选房比厨卫干净度哦 整套公寓 1室1.5卫1床\n",
      "5 ￥95  梅林北氧吧水云间 独立房间 2室1.5卫2床\n",
      "8 ￥328  【安心防护居】无接触自助式入住【周租/月租/长租特惠】大剧院万象城#老街#罗湖口岸#一房一厅 整套公寓 1室1卫1床\n",
      "0 ￥218  Wind香蜜湖北欧简约大床房.农林地铁站.福田CBD.香蜜公园.车公庙 独立房间 1室1卫1床\n",
      "14 ￥63 周租优惠 #八羽·黑鸢#日式套间·独立卫浴·榻榻米床垫//深职院/深大/深圳北/大学城/宝体/西丽地铁站 整套公寓 1室1卫0床\n",
      "0 ￥80  天安云谷旁 精装一房 家私齐全拎包入住 商超齐全 整套公寓 1室1卫1床\n",
      "9 ￥328  无接触自助式入住【周租/月租/长租特惠】宿彩一居室|深圳北站|西丽地铁站|南山西丽大学城|城市公寓 整套公寓 1室1卫1床\n",
      "54 ￥235 周租优惠 马拉松爱好者之家，地铁南山站E2出口Metro Nanshan 整套公寓 1室1.5卫1床\n",
      "0 ￥439  【斑斓·家】投影一居室/地铁站步行5分钟/紧邻连城新天地/皇庭广场 整套公寓 1室1卫1床\n",
      "15 ￥438 周租优惠 【旅途中的家】科技园简欧大二房公寓，地铁旁出行便利，厨房设施齐全，小区安静安全，您旅途中温馨的家！ 整套公寓 2室1卫2床\n",
      "63 ￥158 周租优惠 福田CBD 梅景地铁站出口15米 出行超级方便 高档精装小区41楼落地窗夜景 车公庙会展中心购物公园 独立房间 1室1卫1床\n",
      "10 ￥110 周租优惠 地铁11号线马安山站/沙井/宝安/《小猪猪的家C2》/近机场 会展中心 宝体/商务风/智能锁/真实图 整套公寓 1室1卫1床\n",
      "16 ￥299 周租优惠 （城家精选）华强燕南地铁站店投影公寓 整套公寓 1室1卫1床\n",
      "8 ￥133  月租ins风大主卧+空中花园，南山桃园双地铁口，近科技园/深大/世界之窗/海岸城/机场/福田高铁站 独立房间 1室1卫1床\n",
      "4 ￥100  月租私家空中花园单人卧室，南山桃园双地铁，近科技园/深大/世界之窗/海岸城/机场/福田高铁站 独立房间 1室1卫1床\n",
      "0 ￥158 周租优惠 福田口岸地铁+B保税区温馨简约时尚，全景飄窗海景房，獨立洗手間，房间直接观深圳湾海面及夕阳，设施齐全 独立房间 1室1卫1床\n",
      "24 ￥198 周租优惠 东门老街，高性价比，独享一居室，地铁口，百米到老街，近金光华，万象城，KKMALL，商务旅游吃货首选 整套公寓 1室1.5卫1床\n",
      "0 ￥428  【摩卡】#tuzi#华強北loft公寓| 整间LOFT 1室1卫1床\n",
      "0 ￥342  Kiah's apt 3 整套公寓 1室1卫1床\n",
      "22 ￥136 周租优惠 中心区朝南独立卧室带大落地窗 独立房间 1室1卫1床\n",
      "0 ￥75 新房特惠 8 折 泊寓布吉店青年之家 整套公寓 1室1卫1床\n",
      "4 ￥500 周租优惠 暂停 整间LOFT 单间0床\n",
      "11 ￥208 周租优惠 荷坳地铁站北欧简约风情怀公寓近港中文、信息学院、深北理三所大学（可做饭）整租房 整套公寓 1室1卫1床\n",
      "82 ￥251 周租优惠 【艺术之家】福田中心区石厦地铁站时尚的画家居室 The painter's room 整套公寓 1室1卫1床\n",
      "16 ￥138 周租优惠 南山中心区.森系主卧A Sunny Room Full Of Forest 独立房间 1室1卫1床\n",
      "0 ￥118 周租优惠 福田口岸地铁+A保税区海景房，温馨简约时尚单间设施齐全，屋中观香港米浦自然保护区 独立房间 1室3卫1床\n",
      "12 ￥68 周租优惠 #八羽·夜莺#日式套间/南山区/西丽/深职院/万象天地/科技园/深圳湾/深大/深圳北/大学城/万科里 整套公寓 1室1卫0床\n",
      "0 ￥298  「无敌夜景」会展中心·市中心CBD·平安中心·coco park·福田口岸·皇岗口岸·华侨城·深圳站 整套公寓 1室1卫1床\n",
      "30 ￥109 周租优惠 【花狸】南山/深大/桃园/1号和11号线地铁站附近/安静别墅小区里的民宅/有猫儿 独立房间 1室1卫1床\n"
     ]
    }
   ],
   "source": [
    "driver=webdriver.Firefox(executable_path=r'C:\\Users\\DOT-1\\Desktop\\geckodriver.exe')\n",
    "\n",
    "driver.implicitly_wait(20)\n",
    "driver.get('https://www.airbnb.cn/s/%E6%B7%B1%E5%9C%B3/homes?selected_tab_id=home_tab&refinement_paths%5B%5D=%2Fhomes&map_toggle=false&place_id=ChIJkVLh0Aj0AzQRyYCStw1V7v0&screen_size=large&hide_dates_and_guests_filters=false&current_tab_id=home_tab')\n",
    "time.sleep(5)\n",
    "\n",
    "for i in range(0,5):\n",
    "    #找到页面中所有的租房\n",
    "    rent_list=driver.find_elements_by_css_selector('div._gig1e7')\n",
    "                         \n",
    "#对每个出租房\n",
    "    for eachhouse in rent_list:\n",
    "    #找到评论数量\n",
    "        try:\n",
    "            comment=eachhouse.find_element_by_css_selector('span._69pvqtq')\n",
    "            comment=comment.text\n",
    "        except:\n",
    "            comment=0\n",
    "    #找到价格\n",
    "        price=eachhouse.find_element_by_css_selector('div._59f9ic')\n",
    "        price=price.text.replace('每晚','').replace('价格','').replace('\\n','')\n",
    "    #找到名称\n",
    "        name=eachhouse.find_element_by_css_selector('div._qrfr9x5')\n",
    "        name=name.text\n",
    "    #找到房屋类型，大小\n",
    "        details=eachhouse.find_element_by_css_selector('div._1etkxf1')\n",
    "        details=details.text\n",
    "        house_type=details.split(\" · \")[0]\n",
    "        bed_number=details.split(\" · \")[1]\n",
    "        print(comment,price,name,house_type,bed_number)\n",
    "        \n",
    "    driver.execute_script('window.scrollTo(0,document.body.scrollHeight);')\n",
    "    load_more=driver.find_element_by_css_selector('a._r0agyd')\n",
    "    load_more.click()\n",
    "    time.sleep(5)\n",
    "    "
   ]
  },
  {
   "cell_type": "markdown",
   "metadata": {},
   "source": [
    "## 提升爬虫速度"
   ]
  },
  {
   "cell_type": "markdown",
   "metadata": {},
   "source": [
    "通过控制Selenium的CSS加载，控制图片加载和控制JavaScript加载，来提升爬虫速度"
   ]
  },
  {
   "cell_type": "code",
   "execution_count": 11,
   "metadata": {},
   "outputs": [
    {
     "name": "stdout",
     "output_type": "stream",
     "text": [
      "0 ￥288  豪华大床房 公寓客房 1室1.5卫0床\n",
      "0 ￥1,300  豪华装修四房，高品质小区，物超所值，房间通透，地理位置便利，商业齐全，只有您想不到，没有它做不到！ 整套公寓 4室2卫4床\n",
      "8 ￥133  月租ins风大主卧+空中花园，南山桃园双地铁口，近科技园/深大/世界之窗/海岸城/机场/福田高铁站 独立房间 1室1卫1床\n",
      "4 ￥100  月租私家空中花园单人卧室，南山桃园双地铁，近科技园/深大/世界之窗/海岸城/机场/福田高铁站 独立房间 1室1卫1床\n",
      "32 ￥188 周租优惠 【典】时尚雅致房 南山站E出口100m 步行至深大 临近春茧 海岸城 口岸 地铁直达机场 独立房间 1室2卫1床\n",
      "12 ￥68 周租优惠 #八羽·夜莺#日式套间/南山区/西丽/深职院/万象天地/科技园/深圳湾/深大/深圳北/大学城/万科里 整套公寓 1室1卫0床\n",
      "0 ￥342  Kiah's apt 3 整套公寓 1室1卫1床\n",
      "24 ￥198 周租优惠 东门老街，高性价比，独享一居室，地铁口，百米到老街，近金光华，万象城，KKMALL，商务旅游吃货首选 整套公寓 1室1.5卫1床\n",
      "16 ￥138 周租优惠 南山中心区.森系主卧A Sunny Room Full Of Forest 独立房间 1室1卫1床\n",
      "11 ￥208 周租优惠 荷坳地铁站北欧简约风情怀公寓近港中文、信息学院、深北理三所大学（可做饭）整租房 整套公寓 1室1卫1床\n",
      "11 ￥208 周租优惠 云白【秋季特惠】有暖气/超大独卫/超大山景阳台/地铁站边/近大学城、南科大、深圳北站 独立房间 1室1卫1床\n",
      "17 ￥86 周租优惠 #八羽·鹧鸪#双床一室一厅/南山区/西丽/深职院/万象天地/科技园/深大/深圳北/大学城/万科里 整套公寓 1室1卫1床\n",
      "0 ￥81  酒店式公寓，品牌家电具全新出租 一年起租 整套公寓 1室1卫1床\n",
      "82 ￥251 周租优惠 【艺术之家】福田中心区石厦地铁站时尚的画家居室 The painter's room 整套公寓 1室1卫1床\n",
      "0 ￥1,500  榮寓公寓 整套公寓 1室1.5卫1床\n",
      "4 ￥349 周租优惠 【Yucca原创】近深圳北站、直达福田、香港、会展中心、大落地窗、家庭影院，法式现代原创复式两居室 整套公寓 2室2卫2床\n",
      "0 ￥200  【隔离房长租特惠】带窗独卫大床房/酒店式服务/会展中心/皇庭广场/福田&皇岗口岸/卓越INTOWN 精品酒店客房 1室1卫0床\n",
      "72 ￥293 周租优惠 【宫遇】9i-KKmall楼上一房一厅--【都市闲庭】 整套公寓 1室1卫1床\n",
      "16 ￥89 周租优惠 #八羽·云雀#一室一厅/南山区/西丽/深职院/万象天地/科技园/深圳湾/深大/深圳北/大学城/万科里 整套公寓 1室1卫0床\n",
      "99 ￥198  「泊系の一」下沙地铁口 | 日系极简风 | 可开发票 |车公庙| KKone|世界之窗 | 福田口岸 整套公寓 1室1卫1床\n",
      "0 ￥837  科技园大冲新城花园2栋 万象天地 1号线 独立房间 1室1卫1床\n",
      "35 ￥238 周租优惠 福田车公庙下沙上沙地铁房落地窗观景房ins艺术原木风网红房少女风公主房拍照打卡必备无敌夜景房 整套公寓 1室1卫1床\n",
      "0 ￥188 连住满 3 天优惠 【繁花】福田华强北豪华一居/科学馆地铁站/大剧院京基一百罗湖口岸/可洗衣做饭/前台24小时服务有赠饮 整套公寓 1室1卫1床\n",
      "0 ￥298  「小林家」会展中心·市中心CBD·coco park·福田口岸·皇岗口岸·平安中心·华侨城·深圳北站 整套公寓 1室1卫1床\n",
      "9 ￥180 周租优惠 日式loft、国贸、罗湖口岸、火车站、金光华、老街 整间LOFT 1室1卫1床\n",
      "130 ￥214  「泊系の二」福田下沙地铁上盖/车公庙/读书品茶/可开发票/长租优惠/可睡3人 整套公寓 1室1.5卫2床\n",
      "4 ￥178 周租优惠 [Foryou]巨幕投影|福田口岸|会展中心| 福田CBD 整套公寓 1室1卫1床\n",
      "0 ￥100 周租优惠 益田地铁站步行8分钟，福田口岸骑行八分钟，高档社区安静安全，独立房间，约12平米，欢迎长租，长租优惠 独立房间 1室1卫1床\n",
      "30 ￥109 周租优惠 【花狸】南山/深大/桃园/1号和11号线地铁站附近/安静别墅小区里的民宅/有猫儿 独立房间 1室1卫1床\n",
      "12 ￥280 周租优惠 【宫遇】25-KKmall-小米智能家居体验-小爱同学-软床垫-京基100/万象城/地王/荔枝公园 整套公寓 1室1卫1床\n",
      "35 ￥268 周租优惠 Rachel_Home3车公庙/京基滨河时代一房一厅商旅公寓 整套公寓 1室1卫1床\n",
      "0 ￥188 周租优惠 Travel life罗湖区/东门步行街/落地窗婚纱/地铁口/罗湖火车站/罗湖口岸/万象城/地王京基 整套公寓 1室1卫1床\n"
     ]
    }
   ],
   "source": [
    "#控制CSS加载，控制图片加载和控制JavaScript加载，来提升爬虫速度\n",
    "fp=webdriver.FirefoxProfile()\n",
    "fp.set_preference('permissions.default.stylesheet',2)\n",
    "fp.set_preference('permissions.default.image',2)\n",
    "fp.set_preference('javascript.enabled',False)\n",
    "driver=webdriver.Firefox(firefox_profile=fp,executable_path=r'C:\\Users\\DOT-1\\Desktop\\geckodriver.exe')\n",
    "\n",
    "driver.implicitly_wait(10)\n",
    "driver.get('https://www.airbnb.cn/s/%E6%B7%B1%E5%9C%B3/homes?selected_tab_id=home_tab&refinement_paths%5B%5D=%2Fhomes&map_toggle=false&place_id=ChIJkVLh0Aj0AzQRyYCStw1V7v0&screen_size=large&hide_dates_and_guests_filters=false&current_tab_id=home_tab')\n",
    "time.sleep(5)\n",
    "\n",
    "for i in range(0,2):\n",
    "    \n",
    "    #找到页面中所有的租房\n",
    "    rent_list=driver.find_elements_by_css_selector('div._gig1e7')\n",
    "                         \n",
    "#对每个出租房\n",
    "    for eachhouse in rent_list:\n",
    "    #找到评论数量\n",
    "        try:\n",
    "            comment=eachhouse.find_element_by_css_selector('span._69pvqtq')\n",
    "            comment=comment.text\n",
    "        except:\n",
    "            comment=0\n",
    "    #找到价格\n",
    "        price=eachhouse.find_element_by_css_selector('div._59f9ic')\n",
    "        price=price.text.replace('每晚','').replace('价格','').replace('\\n','')\n",
    "    #找到名称\n",
    "        name=eachhouse.find_element_by_css_selector('div._qrfr9x5')\n",
    "        name=name.text\n",
    "    #找到房屋类型，大小\n",
    "        details=eachhouse.find_element_by_css_selector('div._1etkxf1')\n",
    "        details=details.text\n",
    "        house_type=details.split(\" · \")[0]\n",
    "        bed_number=details.split(\" · \")[1]\n",
    "        print(comment,price,name,house_type,bed_number)\n",
    "        \n",
    "    driver.execute_script('window.scrollTo(0,document.body.scrollHeight);')\n",
    "    load_more=driver.find_element_by_css_selector('a._r0agyd')\n",
    "    load_more.click()\n",
    "    time.sleep(5)"
   ]
  }
 ],
 "metadata": {
  "kernelspec": {
   "display_name": "Python 3",
   "language": "python",
   "name": "python3"
  },
  "language_info": {
   "codemirror_mode": {
    "name": "ipython",
    "version": 3
   },
   "file_extension": ".py",
   "mimetype": "text/x-python",
   "name": "python",
   "nbconvert_exporter": "python",
   "pygments_lexer": "ipython3",
   "version": "3.7.4"
  }
 },
 "nbformat": 4,
 "nbformat_minor": 2
}
